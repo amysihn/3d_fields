{
 "cells": [
  {
   "cell_type": "code",
   "execution_count": 6,
   "id": "41cdda17",
   "metadata": {},
   "outputs": [],
   "source": [
    "import opal\n",
    "import openpmd_api as io\n",
    "#from pmd_beamphysics import FieldMesh\n",
    "#from pmd_beamphysics import ParticleGroup, particle_paths, pmd_init\n",
    "import matplotlib.pyplot as plt\n",
    "import numpy as np\n",
    "from h5py import File\n",
    "import os"
   ]
  },
  {
   "cell_type": "code",
   "execution_count": 11,
   "id": "42ed38d5",
   "metadata": {},
   "outputs": [
    {
     "ename": "RuntimeError",
     "evalue": "particlesPath",
     "output_type": "error",
     "traceback": [
      "\u001b[1;31m---------------------------------------------------------------------------\u001b[0m",
      "\u001b[1;31mRuntimeError\u001b[0m                              Traceback (most recent call last)",
      "\u001b[1;32m<ipython-input-11-f0869a2ac69e>\u001b[0m in \u001b[0;36m<module>\u001b[1;34m\u001b[0m\n\u001b[0;32m      1\u001b[0m \u001b[1;31m#H5FILE = ('C:/Users/asihn/Downloads/APEX-GUN-Quarter-642K-20210714T100325Z-001/APEX-GUN-Quarter-642K/E_Real.h5', 'r')\u001b[0m\u001b[1;33m\u001b[0m\u001b[1;33m\u001b[0m\u001b[1;33m\u001b[0m\u001b[0m\n\u001b[1;32m----> 2\u001b[1;33m \u001b[0mseries\u001b[0m \u001b[1;33m=\u001b[0m \u001b[0mio\u001b[0m\u001b[1;33m.\u001b[0m\u001b[0mSeries\u001b[0m\u001b[1;33m(\u001b[0m\u001b[1;34m'C:/Users/asihn/Downloads/APEX-GUN-Quarter-642K-20210714T100325Z-001/APEX-GUN-Quarter-642K/E_Real.h5'\u001b[0m\u001b[1;33m,\u001b[0m \u001b[0mio\u001b[0m\u001b[1;33m.\u001b[0m\u001b[0mAccess\u001b[0m\u001b[1;33m.\u001b[0m\u001b[0mread_only\u001b[0m\u001b[1;33m)\u001b[0m\u001b[1;33m\u001b[0m\u001b[1;33m\u001b[0m\u001b[0m\n\u001b[0m",
      "\u001b[1;31mRuntimeError\u001b[0m: particlesPath"
     ]
    }
   ],
   "source": [
    "#H5FILE = ('C:/Users/asihn/Downloads/APEX-GUN-Quarter-642K-20210714T100325Z-001/APEX-GUN-Quarter-642K/E_Real.h5', 'r')\n",
    "series = io.Series('C:\\Users\\asihn\\Desktop\\Internship\\SLAC\\2021\\3D_fieldmaps\\APEX-GUN-Quarter-642KE_Real.h5', io.Access.read_only)"
   ]
  },
  {
   "cell_type": "code",
   "execution_count": null,
   "id": "10e02497",
   "metadata": {},
   "outputs": [],
   "source": [
    "P = ParticleGroup(H5FILE)"
   ]
  },
  {
   "cell_type": "code",
   "execution_count": null,
   "id": "3ec09f1e",
   "metadata": {},
   "outputs": [],
   "source": []
  },
  {
   "cell_type": "code",
   "execution_count": null,
   "id": "fc1537aa",
   "metadata": {},
   "outputs": [],
   "source": []
  },
  {
   "cell_type": "code",
   "execution_count": null,
   "id": "bdf00699",
   "metadata": {},
   "outputs": [],
   "source": [
    "P.plot('E', aspect='equal')"
   ]
  },
  {
   "cell_type": "code",
   "execution_count": null,
   "id": "1b5aac12",
   "metadata": {},
   "outputs": [],
   "source": [
    "# Slice across y (i.e. in a plane parallel to x-z)\n",
    "# Ez1, info_Ez1 = ts_3d.get_field( field='E', coord='z', iteration=500, \n",
    "                                    slice_across='y', plot=True )\n",
    "# Slice across z (i.e. in a plane parallel to x-y)\n",
    "Ez2, info_Ez2 = ts_3d.get_field( field='E', coord='z', iteration=500,\n",
    "                                    slice_across='z', plot=True )\n",
    "\n",
    "# Slice across x and y (i.e. along a line parallel to the z axis)\n",
    "Ez2, info_Ez2 = ts_3d.get_field( field='B', coord='z', iteration=500,\n",
    "                                    slice_across=['x','y'], plot=True )"
   ]
  },
  {
   "cell_type": "code",
   "execution_count": null,
   "id": "097577fd",
   "metadata": {},
   "outputs": [],
   "source": []
  },
  {
   "cell_type": "code",
   "execution_count": null,
   "id": "8ed79d4b",
   "metadata": {},
   "outputs": [],
   "source": []
  },
  {
   "cell_type": "code",
   "execution_count": null,
   "id": "d4c0f9fe",
   "metadata": {},
   "outputs": [],
   "source": [
    "# The regular write routine writes in a proper openPMD format\n",
    "P.write('openpmd_particles.h5')\n",
    "In [5]:\n",
    "# An open h5 hande can also be used, but it needs to be properly initialized\n",
    "with File('openpmd_particles.h5', 'w') as h5:\n",
    "    pmd_init(h5, basePath='/', particlesPath='/' )\n",
    "    P.write(h5)\n",
    "In [6]:\n",
    "# This can be read in by another ParticleGroup\n",
    "P2 = ParticleGroup('openpmd_particles.h5')\n",
    "In [7]:\n",
    "# Check that these are the same\n",
    "all(P2.x == P.x)"
   ]
  },
  {
   "cell_type": "code",
   "execution_count": null,
   "id": "01e8ca99",
   "metadata": {},
   "outputs": [],
   "source": [
    "#2D\n",
    "import opal\n",
    "from opal.opal import load_dataset, filetype\n",
    "\n",
    "ds = load_dataset('C:/Users/asihn/Downloads', fname='sc_inj.stat')\n",
    "print(ds)"
   ]
  },
  {
   "cell_type": "code",
   "execution_count": null,
   "id": "47de7304",
   "metadata": {},
   "outputs": [],
   "source": [
    "plt = ds.plot_profile1D('s', 'Ez_ref')\n",
    "\n",
    "plt.show()"
   ]
  },
  {
   "cell_type": "code",
   "execution_count": null,
   "id": "95e0d0ed",
   "metadata": {},
   "outputs": [],
   "source": [
    "plt1 = ds.plot_profile1D('s', 'Bz_ref')\n",
    "plt1.show()"
   ]
  },
  {
   "cell_type": "code",
   "execution_count": null,
   "id": "3bddd861",
   "metadata": {},
   "outputs": [],
   "source": []
  }
 ],
 "metadata": {
  "kernelspec": {
   "display_name": "Python 3",
   "language": "python",
   "name": "python3"
  },
  "language_info": {
   "codemirror_mode": {
    "name": "ipython",
    "version": 3
   },
   "file_extension": ".py",
   "mimetype": "text/x-python",
   "name": "python",
   "nbconvert_exporter": "python",
   "pygments_lexer": "ipython3",
   "version": "3.7.10"
  }
 },
 "nbformat": 4,
 "nbformat_minor": 5
}
